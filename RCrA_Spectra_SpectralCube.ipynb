{
 "cells": [
  {
   "cell_type": "code",
   "execution_count": 1,
   "metadata": {
    "collapsed": false
   },
   "outputs": [
    {
     "name": "stderr",
     "output_type": "stream",
     "text": [
      "Vendor:  Continuum Analytics, Inc.\n",
      "Package: mkl\n",
      "Message: license expired\n",
      "\n",
      "    the package mklfft 2.0 was published on 2015-11-13,\n",
      "    however the mkl license expiration date is 2015-04-12.\n",
      "    You may be able to run earlier versions of mklfft using your\n",
      "    current license.  A new license can be purchased at: http://continuum.io\n",
      "    To revert to an earlier set of conda packages, use:\n",
      "    $ conda list --revisions\n",
      "    ...\n",
      "    $ conda install --revision <REVISION NUMBER>\n",
      "\n",
      "    \n"
     ]
    }
   ],
   "source": [
    "#\n",
    "# Extract spectra of source a and b in the i16293 ALMA data\n",
    "\n",
    "import numpy as np\n",
    "import scipy.stats as ss\n",
    "import matplotlib\n",
    "import matplotlib.pyplot as plt\n",
    "import astropy.io.fits as aiof\n",
    "from spectral_cube import SpectralCube\n",
    "import pyregion\n",
    "import astropy.units as u\n",
    "from astropy.coordinates import SkyCoord\n",
    "import aplpy\n",
    "import os\n",
    "\n",
    "%matplotlib inline \n",
    "matplotlib.rcParams['axes.linewidth'] = 2.5\n",
    "matplotlib.rcParams['text.usetex'] = True\n",
    "matplotlib.rcParams['font.size'] = 20\n"
   ]
  },
  {
   "cell_type": "code",
   "execution_count": 12,
   "metadata": {
    "collapsed": false
   },
   "outputs": [],
   "source": [
    "def get_ss_reg(src):\n",
    "    sa = str(int(src.ra.hms[0]))+':'+str(int(src.ra.hms[1]))+':'+str(src.ra.hms[2])\n",
    "    if src.dec.deg <0:\n",
    "        sd='-'+str(int(abs(src.dec.dms[0])))+':'+str(int(abs(src.dec.dms[1])))+':'+str(abs(src.dec.dms[2]))\n",
    "    else:\n",
    "        sd=str(int(abs(src.dec.dms[0])))+':'+str(int(abs(src.dec.dms[1])))+':'+str(abs(src.dec.dms[2]))\n",
    "    #\n",
    "    return sa+', '+sd\n",
    "    \n",
    "# regions\n",
    "source = SkyCoord('19:01:33.87 -36:57:45.3', unit=(u.hourangle, u.deg))\n",
    "rad = 0.5*u.arcsec\n",
    "\n",
    "# define the source region\n",
    "reg = pyregion.parse(\"FK5; circle(\"+get_ss_reg(source)+\",\"+str(rad.to(u.degree).value)+\")\")\n",
    "\n",
    "# define the sky annulus\n",
    "rad_in = 1.0*u.arcsec\n",
    "rad_out = 2.0*u.arcsec\n",
    "sky_reg = pyregion.parse(\"FK5; annulus(\"+get_ss_reg(source)+\",\"+str(rad_in.to(u.degree).value)+\",\"+str(rad_out.to(u.degree).value)+\")\")\n"
   ]
  },
  {
   "cell_type": "code",
   "execution_count": 19,
   "metadata": {
    "collapsed": false
   },
   "outputs": [],
   "source": [
    "mycube = 'CrA16.12CO.fits'\n",
    "nu0 = 230538.00*u.MHz\n",
    "cube = SpectralCube.read(mycube)\n",
    "sc = cube.subcube_from_ds9region(reg)\n",
    "sc_vel = sc.with_spectral_unit(u.km/u.s,velocity_convention='radio',rest_value=nu0)\n",
    "sc_sky = cube.subcube_from_ds9region(sky_reg)\n",
    "sc_sky_vel = sc_sky.with_spectral_unit(u.km/u.s,velocity_convention='radio',rest_value=nu0)\n",
    "\n",
    "y = sc_vel.mean(axis=(1,2)).value\n",
    "y_sky = sc_sky_vel.mean(axis=(1,2)).value\n",
    "\n",
    "ydif = y-y_sky\n",
    "yrms = np.std(ydif)\n",
    "ymean = ydif.mean()"
   ]
  },
  {
   "cell_type": "code",
   "execution_count": 27,
   "metadata": {
    "collapsed": false
   },
   "outputs": [
    {
     "data": {
      "text/plain": [
       "[<matplotlib.lines.Line2D at 0x11d3eb0d0>]"
      ]
     },
     "execution_count": 27,
     "metadata": {},
     "output_type": "execute_result"
    },
    {
     "data": {
      "image/png": "[encoded data removed]",
      "text/plain": [
       "<matplotlib.figure.Figure at 0x119649990>"
      ]
     },
     "metadata": {},
     "output_type": "display_data"
    }
   ],
   "source": [
    "#fig = plt.figure(figsize=(18,6))\n",
    "fig, ax = plt.subplots(2, 1, sharex=False, sharey=False, squeeze=True, figsize=(18,6*2))\n",
    "ax[0].step(sc_vel.spectral_axis,y,color='b')\n",
    "ax[0].step(sc_vel.spectral_axis,y_sky,linestyle='dotted',color='b')\n",
    "ax[1].step(sc_vel.spectral_axis,y-y_sky,color='r')\n",
    "ax[1].fill_between([sc_vel.spectral_axis.value[0],sc_vel.spectral_axis.value[-1]],[ymean+yrms,ymean+yrms], [ymean-yrms,ymean-yrms],  facecolor='red', alpha=0.2)\n",
    "ax[1].plot([sc_vel.spectral_axis.value[0],sc_vel.spectral_axis.value[-1]],[ymean,ymean],linestyle='dashed',color='r')\n",
    "ax[1].plot([sc_vel.spectral_axis.value[0],sc_vel.spectral_axis.value[-1]],[ymean+yrms,ymean+yrms],linestyle='dotted',color='r')\n",
    "ax[1].plot([sc_vel.spectral_axis.value[0],sc_vel.spectral_axis.value[-1]],[ymean-yrms,ymean-yrms],linestyle='dotted',color='r')"
   ]
  },
  {
   "cell_type": "code",
   "execution_count": null,
   "metadata": {
    "collapsed": true
   },
   "outputs": [],
   "source": []
  }
 ],
 "metadata": {
  "kernelspec": {
   "display_name": "Python 2",
   "language": "python",
   "name": "python2"
  },
  "language_info": {
   "codemirror_mode": {
    "name": "ipython",
    "version": 2
   },
   "file_extension": ".py",
   "mimetype": "text/x-python",
   "name": "python",
   "nbconvert_exporter": "python",
   "pygments_lexer": "ipython2",
   "version": "2.7.11"
  }
 },
 "nbformat": 4,
 "nbformat_minor": 0
}
